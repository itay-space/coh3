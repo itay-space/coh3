{
 "cells": [
  {
   "cell_type": "code",
   "execution_count": 1,
   "metadata": {},
   "outputs": [],
   "source": [
    "import scat\n",
    "mFe56 = 55.9349375  # Mass of Fe-56 in atomic mass units\n",
    "mn = 1.00866491578  # Neutron mass in atomic mass units\n",
    "EinLab = 10  # MeV\n",
    "mys = scat.Scatter(mFe56,mn,EinLab , j = 1/2 , l = 1 , s = 1/2 ,\n",
    "                    V0 = 1 , r0 = 1 , a0 =1,\n",
    "                    Vso0 = 0 , rso0 =1 , aso0=1 \n",
    "                    , A = 56 )\n",
    "%pylab inline\n",
    "r_vals = linspace(0.01,16,100)\n",
    "plot(r_vals,(mys.Ufunc(r_vals)).imag)"
   ]
  }
 ],
 "metadata": {
  "kernelspec": {
   "display_name": "Python 3",
   "language": "python",
   "name": "python3"
  },
  "language_info": {
   "codemirror_mode": {
    "name": "ipython",
    "version": 3
   },
   "file_extension": ".py",
   "mimetype": "text/x-python",
   "name": "python",
   "nbconvert_exporter": "python",
   "pygments_lexer": "ipython3",
   "version": "3.10.15"
  }
 },
 "nbformat": 4,
 "nbformat_minor": 2
}
